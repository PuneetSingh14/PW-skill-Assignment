{
  "nbformat": 4,
  "nbformat_minor": 0,
  "metadata": {
    "colab": {
      "provenance": []
    },
    "kernelspec": {
      "name": "python3",
      "display_name": "Python 3"
    },
    "language_info": {
      "name": "python"
    }
  },
  "cells": [
    {
      "cell_type": "markdown",
      "source": [
        "Que 1. Discuss String slicing and provide Examples ?"
      ],
      "metadata": {
        "id": "6gvpqQn0vqAq"
      }
    },
    {
      "cell_type": "markdown",
      "source": [
        "String slicing is used in programming to extract a subset of characters from a string. It allows you to retrieve a portion of the string by specifying the start and end indices.\n",
        "\n",
        "The syntax for string slicing is as follows:\n",
        "\n",
        "string[start:end]\n",
        "\n",
        "Where:\n",
        "\n",
        "- start is the index where the slice starts (inclusive)\n",
        "- end is the index where the slice ends (exclusive)\n",
        "\n",
        "If start is omitted, the slice starts from the beginning of the string. If end is omitted, the slice goes until the end of the string.\n"
      ],
      "metadata": {
        "id": "f6N87ZttySHc"
      }
    },
    {
      "cell_type": "code",
      "execution_count": null,
      "metadata": {
        "colab": {
          "base_uri": "https://localhost:8080/",
          "height": 35
        },
        "id": "V-hbpwkxvhcB",
        "outputId": "1383de22-e4f1-4177-ba2f-7238ab39137c"
      },
      "outputs": [
        {
          "output_type": "execute_result",
          "data": {
            "text/plain": [
              "'Data Structure Assignment'"
            ],
            "application/vnd.google.colaboratory.intrinsic+json": {
              "type": "string"
            }
          },
          "metadata": {},
          "execution_count": 1
        }
      ],
      "source": [
        "my_str = \"Data Structure Assignment\"\n",
        "my_str"
      ]
    },
    {
      "cell_type": "code",
      "source": [
        "# Slicing helps to extract the substring from the string value.\n",
        "# It is done with the help of index.\n",
        "print(my_str[1])   # use of index <<<< Gives output \"a\"\n",
        "\n",
        "# Slicing\n",
        "my_str[0:5] #extracting the subtring \"Data\""
      ],
      "metadata": {
        "colab": {
          "base_uri": "https://localhost:8080/",
          "height": 53
        },
        "id": "P1kZ_YNGwJ5c",
        "outputId": "6ff5132a-387d-4e98-97d2-98a10380aba4"
      },
      "execution_count": null,
      "outputs": [
        {
          "output_type": "stream",
          "name": "stdout",
          "text": [
            "a\n"
          ]
        },
        {
          "output_type": "execute_result",
          "data": {
            "text/plain": [
              "'Data '"
            ],
            "application/vnd.google.colaboratory.intrinsic+json": {
              "type": "string"
            }
          },
          "metadata": {},
          "execution_count": 3
        }
      ]
    },
    {
      "cell_type": "markdown",
      "source": [
        "Que 2. Explain the Key features of Lists in Python ?"
      ],
      "metadata": {
        "id": "E75fMO6h05up"
      }
    },
    {
      "cell_type": "markdown",
      "source": [
        " List is a built-in data structure that allows you to store a collection of items in a single variable. These items can be of any type, including integers, floats, strings, and even other lists. Lists are ordered, mutable, and can contain duplicate elements."
      ],
      "metadata": {
        "id": "B1ptkABz2ZZj"
      }
    },
    {
      "cell_type": "markdown",
      "source": [
        "#### Characteristics of Lists:\n",
        "\n",
        "1. Ordered: Elements are stored in a specific sequence and can be accessed by\n",
        "   their position (index).\n",
        "2. Mutable: You can change, add, or remove elements after the list has been\n",
        "   created.\n",
        "3. Heterogeneous: A list can contain elements of different data types.\n",
        "4. Dynamic: Lists can grow or shrink in size as elements are added or removed.\n"
      ],
      "metadata": {
        "id": "x5ckJWuD2q_F"
      }
    },
    {
      "cell_type": "code",
      "source": [
        "# We can create a list by using [] Brackets.\n"
      ],
      "metadata": {
        "id": "YckqBmz0xYgr"
      },
      "execution_count": null,
      "outputs": []
    },
    {
      "cell_type": "markdown",
      "source": [
        "Que 3. Describe how to access, modify, and delete elements in a list with examples."
      ],
      "metadata": {
        "id": "eRWrdtQSDjeM"
      }
    },
    {
      "cell_type": "code",
      "source": [
        "my_list = [1,2,3,4,5,]\n",
        "\n",
        "# Accessing elements\n",
        "# we can access element with the help of index which starts from 0\n",
        "print(my_list[0])\n",
        "print(my_list[-1])"
      ],
      "metadata": {
        "colab": {
          "base_uri": "https://localhost:8080/"
        },
        "id": "b08z61H5D1It",
        "outputId": "b7ec37c7-3626-435d-a4ea-d81a569139cb"
      },
      "execution_count": null,
      "outputs": [
        {
          "output_type": "stream",
          "name": "stdout",
          "text": [
            "1\n",
            "5\n"
          ]
        }
      ]
    },
    {
      "cell_type": "code",
      "source": [
        "# Modifying a List\n",
        "# we can change the value of an element, add new element or remove elements.\n",
        "print(my_list, \" Original list\")\n",
        "\n",
        "my_list[0] = 10 # Changing 1st element\n",
        "print(my_list[0])\n",
        "\n",
        "my_list.append(20) # Adding element\n",
        "print(my_list,\"-------- Adding the Element\")\n",
        "\n",
        "my_list.remove(3)  # Removing element 3\n",
        "print(my_list, \"------- Removing the element 3\")\n",
        "\n",
        "print(my_list.pop(), \"Removing last element\") # Remove the last element of the list\n",
        "\n"
      ],
      "metadata": {
        "colab": {
          "base_uri": "https://localhost:8080/"
        },
        "id": "eV5wVMVQEqci",
        "outputId": "a684bf60-cf55-457f-f3a1-171d12a0a753"
      },
      "execution_count": null,
      "outputs": [
        {
          "output_type": "stream",
          "name": "stdout",
          "text": [
            "[1, 2, 3, 4, 5]  Original list\n",
            "10\n",
            "[10, 2, 3, 4, 5, 20] -------- Adding the Element\n",
            "[10, 2, 4, 5, 20] ------- Removing the element 3\n",
            "20 Removing last element\n"
          ]
        }
      ]
    },
    {
      "cell_type": "code",
      "source": [
        "# Deleting the list\n",
        "del my_list\n",
        "\n",
        "print(my_list)     # Throw an error"
      ],
      "metadata": {
        "colab": {
          "base_uri": "https://localhost:8080/",
          "height": 176
        },
        "id": "ypqFaaVDGEaW",
        "outputId": "b8344d52-01f3-4d54-e38a-a4f7cfe71783"
      },
      "execution_count": null,
      "outputs": [
        {
          "output_type": "error",
          "ename": "NameError",
          "evalue": "name 'my_list' is not defined",
          "traceback": [
            "\u001b[0;31m---------------------------------------------------------------------------\u001b[0m",
            "\u001b[0;31mNameError\u001b[0m                                 Traceback (most recent call last)",
            "\u001b[0;32m<ipython-input-14-627076e88925>\u001b[0m in \u001b[0;36m<cell line: 4>\u001b[0;34m()\u001b[0m\n\u001b[1;32m      2\u001b[0m \u001b[0;32mdel\u001b[0m \u001b[0mmy_list\u001b[0m\u001b[0;34m\u001b[0m\u001b[0;34m\u001b[0m\u001b[0m\n\u001b[1;32m      3\u001b[0m \u001b[0;34m\u001b[0m\u001b[0m\n\u001b[0;32m----> 4\u001b[0;31m \u001b[0mprint\u001b[0m\u001b[0;34m(\u001b[0m\u001b[0mmy_list\u001b[0m\u001b[0;34m)\u001b[0m\u001b[0;34m\u001b[0m\u001b[0;34m\u001b[0m\u001b[0m\n\u001b[0m",
            "\u001b[0;31mNameError\u001b[0m: name 'my_list' is not defined"
          ]
        }
      ]
    },
    {
      "cell_type": "markdown",
      "source": [
        "Que 4. Compare and contrast tuples and lists with examples."
      ],
      "metadata": {
        "id": "SmAUFB2-Hgdk"
      }
    },
    {
      "cell_type": "markdown",
      "source": [
        " Tuples are immutable, ordered collections of elements. They can store a fixed number of items, and their content cannot be modified after creation.\n",
        "\n",
        " Characteristics:\n",
        "- Immutability: Once created, the elements of a tuple cannot be changed, added,\n",
        "  or removed.\n",
        "- Ordered: Elements have a defined order, and this order will not change.\n",
        "- Heterogeneous Elements: Can store different data types.\n",
        "- Access: Elements are accessed via indexing.\n"
      ],
      "metadata": {
        "id": "5onKLpUqILJB"
      }
    },
    {
      "cell_type": "markdown",
      "source": [
        "## What is list and its features is mention in the above question."
      ],
      "metadata": {
        "id": "YnDiLCzfIkv4"
      }
    },
    {
      "cell_type": "markdown",
      "source": [
        "### Comparison\n",
        "\n",
        "1. *Mutability*:\n",
        "   - *Tuples*: Immutable.\n",
        "   - *Lists*: Mutable.\n",
        "\n",
        "2. *Syntax*:\n",
        "   - *Tuples*: Parentheses () or tuple().\n",
        "   - *Lists*: Square brackets [] or list().\n",
        "\n",
        "3. *Performance*:\n",
        "   - *Tuples*: Generally faster to iterate through due to immutability.\n",
        "   - *Lists*: Slightly slower due to the overhead of dynamic size handling.\n",
        "\n",
        "4. *Use Cases*:\n",
        "   - *Tuples*: Suitable for fixed collections of items, such as coordinates, RGB colors, etc.\n",
        "   - *Lists*: Suitable for collections of items that need to be modified, such as a shopping list, to-do list, etc.\n",
        "\n",
        "5. *Methods*:\n",
        "   - *Tuples*: Limited methods (e.g., count, index).\n",
        "   - *Lists*: Richer set of methods (e.g., append, remove, pop, sort, reverse).\n"
      ],
      "metadata": {
        "id": "XRn729GpI0L_"
      }
    },
    {
      "cell_type": "code",
      "source": [
        "# Examples\n",
        "my_tuple = (\"Puneet\", 1 , 2.0, True)\n",
        "my_lis = [\"Singh\", 1, 2.0, False]\n",
        "\n",
        "print(my_tuple)\n",
        "print(my_lis)"
      ],
      "metadata": {
        "colab": {
          "base_uri": "https://localhost:8080/"
        },
        "id": "PY_LwZJzHSkF",
        "outputId": "3bb00121-4a6f-4cc6-be99-fb621e921034"
      },
      "execution_count": null,
      "outputs": [
        {
          "output_type": "stream",
          "name": "stdout",
          "text": [
            "('Puneet', 1, 2.0, True)\n",
            "['Singh', 1, 2.0, False]\n"
          ]
        }
      ]
    },
    {
      "cell_type": "code",
      "source": [
        "my_tuple[0] = \"Hello\"  # Throw an error (Immutable)\n",
        "print(my_tuple)"
      ],
      "metadata": {
        "colab": {
          "base_uri": "https://localhost:8080/",
          "height": 159
        },
        "id": "f-JVxcB3Jk4L",
        "outputId": "dca75e89-4dcc-4bca-813a-1dac64afcb0b"
      },
      "execution_count": null,
      "outputs": [
        {
          "output_type": "error",
          "ename": "TypeError",
          "evalue": "'tuple' object does not support item assignment",
          "traceback": [
            "\u001b[0;31m---------------------------------------------------------------------------\u001b[0m",
            "\u001b[0;31mTypeError\u001b[0m                                 Traceback (most recent call last)",
            "\u001b[0;32m<ipython-input-17-ba495ccfb003>\u001b[0m in \u001b[0;36m<cell line: 1>\u001b[0;34m()\u001b[0m\n\u001b[0;32m----> 1\u001b[0;31m \u001b[0mmy_tuple\u001b[0m\u001b[0;34m[\u001b[0m\u001b[0;36m0\u001b[0m\u001b[0;34m]\u001b[0m \u001b[0;34m=\u001b[0m \u001b[0;34m\"Hello\"\u001b[0m  \u001b[0;31m# Throw an error (Immutable)\u001b[0m\u001b[0;34m\u001b[0m\u001b[0;34m\u001b[0m\u001b[0m\n\u001b[0m\u001b[1;32m      2\u001b[0m \u001b[0mprint\u001b[0m\u001b[0;34m(\u001b[0m\u001b[0mmy_tuple\u001b[0m\u001b[0;34m)\u001b[0m\u001b[0;34m\u001b[0m\u001b[0;34m\u001b[0m\u001b[0m\n",
            "\u001b[0;31mTypeError\u001b[0m: 'tuple' object does not support item assignment"
          ]
        }
      ]
    },
    {
      "cell_type": "code",
      "source": [
        "my_lis[0] = \"World\"   # Mutable\n",
        "print(my_lis)"
      ],
      "metadata": {
        "colab": {
          "base_uri": "https://localhost:8080/"
        },
        "id": "iUFmkIZMKHy5",
        "outputId": "04b04e2e-08ab-4a62-fd84-fcc6db2e41d0"
      },
      "execution_count": null,
      "outputs": [
        {
          "output_type": "stream",
          "name": "stdout",
          "text": [
            "['World', 1, 2.0, False]\n"
          ]
        }
      ]
    },
    {
      "cell_type": "markdown",
      "source": [
        "Que 5. Describe the key features of sets and provide examples of their use."
      ],
      "metadata": {
        "id": "03ouA4bhKwud"
      }
    },
    {
      "cell_type": "markdown",
      "source": [
        "A set is a collection of distinct, unordered elements without any duplicates.\n",
        " - It is also mutable elements ."
      ],
      "metadata": {
        "id": "WHWFFE95LF6E"
      }
    },
    {
      "cell_type": "code",
      "source": [
        "# Creating a set\n",
        "my_set = {\"Hello\", 1, 2.0 , True}  # Here we can check the order of output and the set that we created\n",
        "print(my_set)"
      ],
      "metadata": {
        "colab": {
          "base_uri": "https://localhost:8080/"
        },
        "id": "j9wu_9tdKR3X",
        "outputId": "67390e4d-d3b7-43c3-962c-20a9836ed034"
      },
      "execution_count": null,
      "outputs": [
        {
          "output_type": "stream",
          "name": "stdout",
          "text": [
            "{1, 2.0, 'Hello'}\n"
          ]
        }
      ]
    },
    {
      "cell_type": "code",
      "source": [
        "# Adding more element in the present set\n",
        "print(my_set,\" Original Set\")\n",
        "my_set.add(\"World\")\n",
        "print(my_set,\" Added new element 'World'\")"
      ],
      "metadata": {
        "colab": {
          "base_uri": "https://localhost:8080/"
        },
        "id": "6yaXX1NdL14f",
        "outputId": "3f9db901-d168-4734-d069-4b405172ef06"
      },
      "execution_count": null,
      "outputs": [
        {
          "output_type": "stream",
          "name": "stdout",
          "text": [
            "{1, 2.0, 'Hello'}  Original Set\n",
            "{'World', 1, 2.0, 'Hello'}  Added new element 'World'\n"
          ]
        }
      ]
    },
    {
      "cell_type": "code",
      "source": [
        "# Removing element\n",
        "print(my_set, \"Original Set\")\n",
        "a = my_set.remove(\"World\")\n",
        "print(a, \"Removing element 'World'\")"
      ],
      "metadata": {
        "colab": {
          "base_uri": "https://localhost:8080/"
        },
        "id": "08PUMzs3M4l8",
        "outputId": "9499e14d-4aea-4512-f18e-4ed2d86da6bf"
      },
      "execution_count": null,
      "outputs": [
        {
          "output_type": "stream",
          "name": "stdout",
          "text": [
            "{'World', 1, 2.0, 'Hello'} Original Set\n",
            "None Removing element 'World'\n"
          ]
        }
      ]
    },
    {
      "cell_type": "code",
      "source": [
        "my_set"
      ],
      "metadata": {
        "colab": {
          "base_uri": "https://localhost:8080/"
        },
        "id": "AGa9IygWNu1Z",
        "outputId": "bcdb0759-fb7f-40f5-d789-24fb20bff6f0"
      },
      "execution_count": null,
      "outputs": [
        {
          "output_type": "execute_result",
          "data": {
            "text/plain": [
              "{1, 2.0, 'Hello'}"
            ]
          },
          "metadata": {},
          "execution_count": 36
        }
      ]
    },
    {
      "cell_type": "code",
      "source": [
        "my_set1 = {1,1,2,2,2,3,3,4,4,4,4,}\n",
        "my_set1      # Removes Duplicate Elements"
      ],
      "metadata": {
        "colab": {
          "base_uri": "https://localhost:8080/"
        },
        "id": "PJ-56worOVwZ",
        "outputId": "b7cebda4-fd68-4481-cc43-fb1e23c741ac"
      },
      "execution_count": null,
      "outputs": [
        {
          "output_type": "execute_result",
          "data": {
            "text/plain": [
              "{1, 2, 3, 4}"
            ]
          },
          "metadata": {},
          "execution_count": 38
        }
      ]
    },
    {
      "cell_type": "markdown",
      "source": [
        "Sets are especially useful when you need to ensure that a collection of items contain no duplicates or when you want to perform mathematical operations like unions and intersections efficiently."
      ],
      "metadata": {
        "id": "UzDoxXjFQWct"
      }
    },
    {
      "cell_type": "markdown",
      "source": [
        "Que 6. Describe the use cases of tuples and sets in Python programming."
      ],
      "metadata": {
        "id": "kc9bxtN6RjS7"
      }
    },
    {
      "cell_type": "markdown",
      "source": [
        "### Use Cases of Tuples\n",
        "1. *Storing Coordinates*: Representing geographical coordinates as immutable pairs.\n",
        "2. *Function Returns*: Returning multiple values from a function.\n",
        "3. *Immutable Collections*: Grouping related but unchangeable data, such as database records or configurations.\n",
        "4. *Dictionary Keys*: Using tuples as keys in dictionaries where a composite key is needed.\n",
        "\n",
        "### Use Cases of Sets\n",
        "1. *Unique Element Collection*: Storing a collection of unique items, like a set of usernames.\n",
        "2. *Membership Testing*: Checking if an item exists in a collection efficiently.\n",
        "3. *Removing Duplicates*: Eliminating duplicate items from a list.\n",
        "4. *Set Operations*: Performing mathematical set operations like union, intersection, and difference for data analysis."
      ],
      "metadata": {
        "id": "d55Z0afnWyp3"
      }
    },
    {
      "cell_type": "markdown",
      "source": [
        "Que 7. Describe how to add modified delete items in a dictionary with examples."
      ],
      "metadata": {
        "id": "WeILRgcvRz3P"
      }
    },
    {
      "cell_type": "code",
      "source": [
        "my_dict = {\"Name\": \"Puneet\", \"ID\": \"DA11147\", \"Hobby\":\"Singing\"}\n",
        "my_dict"
      ],
      "metadata": {
        "colab": {
          "base_uri": "https://localhost:8080/"
        },
        "id": "6ZtnfkITQF3M",
        "outputId": "37ec4c91-4a1f-409f-91c9-4acff3ac6fd8"
      },
      "execution_count": null,
      "outputs": [
        {
          "output_type": "execute_result",
          "data": {
            "text/plain": [
              "{'Name': 'Puneet', 'ID': 'DA11147', 'Hobby': 'Singing'}"
            ]
          },
          "metadata": {},
          "execution_count": 39
        }
      ]
    },
    {
      "cell_type": "code",
      "source": [
        "# Adding Elements\n",
        "my_dict[\"Job_title\"] = \"Data_Analyst\"\n",
        "my_dict"
      ],
      "metadata": {
        "colab": {
          "base_uri": "https://localhost:8080/"
        },
        "id": "SXIYzSt5Swxx",
        "outputId": "d5ea444d-a67e-496e-a5e8-8cfe88ddae1b"
      },
      "execution_count": null,
      "outputs": [
        {
          "output_type": "execute_result",
          "data": {
            "text/plain": [
              "{'Name': 'Puneet',\n",
              " 'ID': 'DA11147',\n",
              " 'Hobby': 'Singing',\n",
              " 'Job_title': 'Data_Analyst'}"
            ]
          },
          "metadata": {},
          "execution_count": 41
        }
      ]
    },
    {
      "cell_type": "code",
      "source": [
        "# Modifying Dictionary\n",
        "my_dict[\"Hobby\"] = \"Drawing\"\n",
        "my_dict"
      ],
      "metadata": {
        "colab": {
          "base_uri": "https://localhost:8080/"
        },
        "id": "w_KkNyRGTYvM",
        "outputId": "0e9f946f-b884-412a-db1a-3b4648d79ee4"
      },
      "execution_count": null,
      "outputs": [
        {
          "output_type": "execute_result",
          "data": {
            "text/plain": [
              "{'Name': 'Puneet',\n",
              " 'ID': 'DA11147',\n",
              " 'Hobby': 'Drawing',\n",
              " 'Job_title': 'Data_Analyst'}"
            ]
          },
          "metadata": {},
          "execution_count": 43
        }
      ]
    },
    {
      "cell_type": "code",
      "source": [
        "# deleting Elements\n",
        "del my_dict[\"Hobby\"]\n",
        "my_dict"
      ],
      "metadata": {
        "colab": {
          "base_uri": "https://localhost:8080/"
        },
        "id": "z_bmcw7nUe8V",
        "outputId": "58ee4a68-2bee-4cbc-bc93-8384e39aeb50"
      },
      "execution_count": null,
      "outputs": [
        {
          "output_type": "execute_result",
          "data": {
            "text/plain": [
              "{'Name': 'Puneet', 'ID': 'DA11147', 'Job_title': 'Data_Analyst'}"
            ]
          },
          "metadata": {},
          "execution_count": 46
        }
      ]
    },
    {
      "cell_type": "markdown",
      "source": [
        "Que 8. Discuss the importance of dictionary keeping immutable and provide examples."
      ],
      "metadata": {
        "id": "sWWYj6UUVnyb"
      }
    },
    {
      "cell_type": "markdown",
      "source": [
        "Keeping dictionary keys immutable in Python is crucial for several reasons:\n",
        "\n",
        "1. *Hashability*: Dictionary keys must be hashable objects. A hashable object has a hash value that remains constant during its lifetime. This allows dictionaries to quickly compare keys during lookups, ensuring efficient retrieval of values.\n",
        "\n",
        "2. *Consistency*: If dictionary keys could be mutable, changes to the key could lead to inconsistencies and unexpected behaviors, such as the key not being found in the dictionary even though it appears to be present.\n",
        "\n",
        "3. *Reliability*: Immutable keys ensure that the dictionary's internal structure remains stable, preventing issues related to keys changing while they are being used to access or store values.\n"
      ],
      "metadata": {
        "id": "dfHdrApZV9pB"
      }
    },
    {
      "cell_type": "code",
      "source": [
        "# Valid Dictionary Keys (Immutable)*:\n",
        "# Strings as keys (immutable)\n",
        "my_dict = {\"name\": \"Alice\", \"age\": 30}\n",
        "\n",
        "# Numbers as keys (immutable)\n",
        "my_dict = {1: \"one\", 2: \"two\"}\n",
        "\n",
        "# Tuples as keys (immutable)\n",
        "my_dict = {(1, 2): \"point\", (3, 4): \"another point\"}"
      ],
      "metadata": {
        "id": "5Ksd_nWkU3GW"
      },
      "execution_count": null,
      "outputs": []
    },
    {
      "cell_type": "markdown",
      "source": [
        " Explanation\n",
        "\n",
        "- *Strings and Numbers*: These are immutable and hashable, making them ideal for dictionary keys.\n",
        "- *Tuples*: As long as the tuple contains only immutable elements, it is hashable and can be used as a key.\n",
        "- *Lists and Dictionaries*: These are mutable and unhashable. Using them as dictionary keys would cause a TypeError because their hash values could change if their contents change.\n",
        "\n",
        "By enforcing the use of immutable keys, Python ensures the stability and efficiency of dictionary operations."
      ],
      "metadata": {
        "id": "ND9kvH3SWd4G"
      }
    },
    {
      "cell_type": "code",
      "source": [],
      "metadata": {
        "id": "isxSoJ6ZWc9B"
      },
      "execution_count": null,
      "outputs": []
    }
  ]
}