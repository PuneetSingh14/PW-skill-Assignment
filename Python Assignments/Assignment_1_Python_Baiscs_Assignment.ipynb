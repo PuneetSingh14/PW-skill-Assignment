{
  "nbformat": 4,
  "nbformat_minor": 0,
  "metadata": {
    "colab": {
      "provenance": []
    },
    "kernelspec": {
      "name": "python3",
      "display_name": "Python 3"
    },
    "language_info": {
      "name": "python"
    }
  },
  "cells": [
    {
      "cell_type": "markdown",
      "source": [
        "Que 1. Explain the key feature of python that make it a popular choice for\n",
        "      programming."
      ],
      "metadata": {
        "id": "9aT6A25LbZeV"
      }
    },
    {
      "cell_type": "markdown",
      "source": [
        "1. *Readability and Simplicity*: Python's syntax is clean and easy to read, which makes it a great language for beginners and helps experienced programmers write code more efficiently.\n",
        "\n",
        "2. *Versatility*: Python is a general-purpose language used for a wide range of applications, from web development to data science, artificial intelligence, and automation.\n",
        "\n",
        "3. *Extensive Libraries and Frameworks*: Python has a rich ecosystem of libraries and frameworks, such as NumPy, pandas, and TensorFlow, which support various tasks and accelerate development.\n",
        "\n",
        "4. *Community Support*: Python has a large and active community that contributes to a wealth of resources, including documentation, tutorials, and forums, which helps users solve problems and learn more effectively.\n",
        "\n"
      ],
      "metadata": {
        "id": "8SHIhV7Tb-ew"
      }
    },
    {
      "cell_type": "markdown",
      "source": [
        "Que 2. Describe the role of predefined keywords in Python and provide example of how they are used in a program."
      ],
      "metadata": {
        "id": "-_6dP7e3cwhE"
      }
    },
    {
      "cell_type": "markdown",
      "source": [
        "1. Keywords are reserved words in Python that have special meanings and cannot be used as identifiers (variable names, function names, etc.).\n",
        "2. Keywords are case-sensitive and cannot be redefined or overridden within a Python program.\n",
        "3.\n",
        "Examples of keywords include if, else, while, for, def, class, import, try, except, return, True, False, None, etc."
      ],
      "metadata": {
        "id": "EsBQM0brc1pz"
      }
    },
    {
      "cell_type": "code",
      "source": [
        "#if, elif, else : Used for conditional statements.\n",
        "x = 10\n",
        "if x > 5 :\n",
        "  print(\"x is greater then 5\")\n",
        "elif x == 5:\n",
        "    print(\"x is equal to 5\")\n",
        "else :\n",
        "  print(\"x is smaller than 5\")\n"
      ],
      "metadata": {
        "colab": {
          "base_uri": "https://localhost:8080/"
        },
        "id": "-GQJEWRQdGN-",
        "outputId": "57c21a5c-8d00-4979-fd18-d526f1933017"
      },
      "execution_count": 2,
      "outputs": [
        {
          "output_type": "stream",
          "name": "stdout",
          "text": [
            "x is greater then 5\n"
          ]
        }
      ]
    },
    {
      "cell_type": "markdown",
      "source": [
        "Que 3. Compare the contrast mutable and immutable object in Python with examples."
      ],
      "metadata": {
        "id": "iaJYSiUseZrR"
      }
    },
    {
      "cell_type": "markdown",
      "source": [
        "1. In Python, objects can be either changeable (modifiable) or unchangeable (unchangeable).\n",
        "2. Mutable objects, such as lists and dictionaries, can be modified after creation, while immutable objects, such as tuples and strings, cannot."
      ],
      "metadata": {
        "id": "b0hso2ZDelgw"
      }
    },
    {
      "cell_type": "code",
      "source": [
        "#Examples:\n",
        "\n",
        "# 1. Lists\n",
        "my_list = [1, 2, 3]\n",
        "my_list.append(4)    # Modifies the list\n",
        "print(my_list)       # Output: [1, 2, 3, 4]"
      ],
      "metadata": {
        "colab": {
          "base_uri": "https://localhost:8080/"
        },
        "id": "dDizk0pPd9zp",
        "outputId": "5838c0ac-12a3-49d7-a0e0-0c079a4de690"
      },
      "execution_count": 5,
      "outputs": [
        {
          "output_type": "stream",
          "name": "stdout",
          "text": [
            "[1, 2, 3, 4]\n"
          ]
        }
      ]
    },
    {
      "cell_type": "code",
      "source": [
        "# Dictionaries\n",
        "my_dict = {'a': 1, 'b': 2}\n",
        "my_dict['c'] = 3     # Modifies the dictionary\n",
        "print(my_dict)      # Output: {'a': 1, 'b': 2, 'c': 3}"
      ],
      "metadata": {
        "colab": {
          "base_uri": "https://localhost:8080/"
        },
        "id": "jpCLAwgYfDpg",
        "outputId": "c6a0326a-e248-4ac1-89d3-6a94fad26358"
      },
      "execution_count": 4,
      "outputs": [
        {
          "output_type": "stream",
          "name": "stdout",
          "text": [
            "{'a': 1, 'b': 2, 'c': 3}\n"
          ]
        }
      ]
    },
    {
      "cell_type": "code",
      "source": [
        "# String\n",
        "my_string = \"Hello World !!\"\n",
        "my_string[0] = \"P\"  # String is Immutable object"
      ],
      "metadata": {
        "colab": {
          "base_uri": "https://localhost:8080/",
          "height": 176
        },
        "id": "yr9EFpNIfgIa",
        "outputId": "6da6cd7d-de57-4011-bb5c-bd730ad06ea3"
      },
      "execution_count": 7,
      "outputs": [
        {
          "output_type": "error",
          "ename": "TypeError",
          "evalue": "'str' object does not support item assignment",
          "traceback": [
            "\u001b[0;31m---------------------------------------------------------------------------\u001b[0m",
            "\u001b[0;31mTypeError\u001b[0m                                 Traceback (most recent call last)",
            "\u001b[0;32m<ipython-input-7-28e3ca2ba31d>\u001b[0m in \u001b[0;36m<cell line: 3>\u001b[0;34m()\u001b[0m\n\u001b[1;32m      1\u001b[0m \u001b[0;31m# String\u001b[0m\u001b[0;34m\u001b[0m\u001b[0;34m\u001b[0m\u001b[0m\n\u001b[1;32m      2\u001b[0m \u001b[0mmy_string\u001b[0m \u001b[0;34m=\u001b[0m \u001b[0;34m\"Hello World !!\"\u001b[0m\u001b[0;34m\u001b[0m\u001b[0;34m\u001b[0m\u001b[0m\n\u001b[0;32m----> 3\u001b[0;31m \u001b[0mmy_string\u001b[0m\u001b[0;34m[\u001b[0m\u001b[0;36m0\u001b[0m\u001b[0;34m]\u001b[0m \u001b[0;34m=\u001b[0m \u001b[0;34m\"P\"\u001b[0m\u001b[0;34m\u001b[0m\u001b[0;34m\u001b[0m\u001b[0m\n\u001b[0m",
            "\u001b[0;31mTypeError\u001b[0m: 'str' object does not support item assignment"
          ]
        }
      ]
    },
    {
      "cell_type": "markdown",
      "source": [
        "Que 4. Discuss the different types of operators in Python and provide examples of how they are used."
      ],
      "metadata": {
        "id": "9Kz_i3uggovm"
      }
    },
    {
      "cell_type": "markdown",
      "source": [
        "1. Operators are special symbols or keywords that are used to carry out specific actions on numbers or variables in Python expressions.\n",
        "2. Python supports various types of operators, including arithmetic operators (+, -, *, /), comparison operators (==, !=, <, >), logical operators (and, or, not), assignment operators (=, +=, -=, *=, /=), etc.\n",
        "3. Operators have precedence and associativity rules that determine the order of evaluation in expressions."
      ],
      "metadata": {
        "id": "S24QmQ3Wgupl"
      }
    },
    {
      "cell_type": "code",
      "source": [
        "# Examples :\n",
        "# Arthemetic Operators\n",
        "a = 10\n",
        "b = 5\n",
        "print(a + b)  # Addition: 15\n",
        "print(a - b)  # Subtraction: 5\n",
        "print(a * b)  # Multiplication: 50\n",
        "print(a / b)  # Division: 2.0\n",
        "print(a % b)  # Modulus: 0\n",
        "print(a ** b) # Exponentiation: 100000\n",
        "print(a // b) # Floor Division: 2"
      ],
      "metadata": {
        "colab": {
          "base_uri": "https://localhost:8080/"
        },
        "id": "shcByKhxf6U8",
        "outputId": "605c79e6-fae5-4ce2-fa2e-4c173ccfa452"
      },
      "execution_count": 12,
      "outputs": [
        {
          "output_type": "stream",
          "name": "stdout",
          "text": [
            "15\n",
            "5\n",
            "50\n",
            "2.0\n",
            "0\n",
            "100000\n",
            "2\n"
          ]
        }
      ]
    },
    {
      "cell_type": "code",
      "source": [
        "#Comparison Operators\n",
        "x = 10\n",
        "y = 20\n",
        "print(x == y)  # Equal to: False\n",
        "print(x != y)  # Not equal to: True\n",
        "print(x > y)   # Greater than: False\n",
        "print(x < y)   # Less than: True\n",
        "print(x >= y)  # Greater than or equal to: False\n",
        "print(x <= y)  # Less than or equal to: True"
      ],
      "metadata": {
        "colab": {
          "base_uri": "https://localhost:8080/"
        },
        "id": "USJ8jKxchV0p",
        "outputId": "cef5e25e-e443-480d-b4a9-e92676954489"
      },
      "execution_count": 11,
      "outputs": [
        {
          "output_type": "stream",
          "name": "stdout",
          "text": [
            "False\n",
            "True\n",
            "False\n",
            "True\n",
            "False\n",
            "True\n"
          ]
        }
      ]
    },
    {
      "cell_type": "markdown",
      "source": [
        "Que 5. Explain the concept of type casting in python with examples."
      ],
      "metadata": {
        "id": "9fOxpVV9iHu6"
      }
    },
    {
      "cell_type": "markdown",
      "source": [
        "1. Type casting, also referred to as type conversion, is the process of changing one data type to another in Python.\n",
        "2. Python provides built-in functions for type casting, such as int(), float(), str(), list(), tuple(), dict(), etc.\n",
        "3. Type casting is often necessary for performing arithmetic operations, data manipulation, and input/output operations in Python programs."
      ],
      "metadata": {
        "id": "OJ2u3KCWietC"
      }
    },
    {
      "cell_type": "code",
      "source": [
        "# Examples :\n",
        "num = \"100\" # It is a String Value\n",
        "print(num)\n",
        "type(num)"
      ],
      "metadata": {
        "colab": {
          "base_uri": "https://localhost:8080/"
        },
        "id": "iGy3gMfwhsNm",
        "outputId": "cbb2bad0-7f14-44fc-92c4-5bb144aefefd"
      },
      "execution_count": 18,
      "outputs": [
        {
          "output_type": "stream",
          "name": "stdout",
          "text": [
            "100\n"
          ]
        },
        {
          "output_type": "execute_result",
          "data": {
            "text/plain": [
              "str"
            ]
          },
          "metadata": {},
          "execution_count": 18
        }
      ]
    },
    {
      "cell_type": "code",
      "source": [
        "# To convert it into a integer, will use type casting\n",
        "num1 = int(num)\n",
        "print(num1)\n",
        "type(num1)"
      ],
      "metadata": {
        "colab": {
          "base_uri": "https://localhost:8080/"
        },
        "id": "42V82MmGjZ9N",
        "outputId": "b25c13ed-a5ee-47fe-a813-b6e7d2efa975"
      },
      "execution_count": 19,
      "outputs": [
        {
          "output_type": "stream",
          "name": "stdout",
          "text": [
            "100\n"
          ]
        },
        {
          "output_type": "execute_result",
          "data": {
            "text/plain": [
              "int"
            ]
          },
          "metadata": {},
          "execution_count": 19
        }
      ]
    },
    {
      "cell_type": "markdown",
      "source": [
        "Que 6. How do conditional statements work in Python ? illustrate with examples"
      ],
      "metadata": {
        "id": "V0aCrQl8kfh9"
      }
    },
    {
      "cell_type": "markdown",
      "source": [
        "Conditional statements in Python allow you to execute certain blocks of code based on whether a condition is true or false. The primary conditional statements are if, elif, and else.\n",
        "\n",
        "Here's a basic overview with examples:\n",
        "\n",
        "1. if Statement: Executes a block of code if its condition is true.\n",
        "2. elif Statement: Stands for \"else if\" and is used to check multiple conditions if the previous conditions are false.\n",
        "3. else Statement: Executes a block of code if none of the preceding conditions are true."
      ],
      "metadata": {
        "id": "eyiOffZ5k0cm"
      }
    },
    {
      "cell_type": "code",
      "source": [
        "age = int(input(\"Enter your age : \"))\n",
        "\n",
        "if age < 13:\n",
        "    print(\"You are a child.\")\n",
        "elif age < 18:\n",
        "    print(\"You are a teenager.\")\n",
        "else:\n",
        "    print(\"You are an adult.\")\n",
        "\n",
        "\n",
        "#In this case:\n",
        "#If age is less than 13, it prints \"You are a child.\"\n",
        "#If age is between 13 and 17, it prints \"You are a teenager.\"\n",
        "#If age is 18 or more, it prints \"You are an adult.\""
      ],
      "metadata": {
        "colab": {
          "base_uri": "https://localhost:8080/"
        },
        "id": "n1STnwdRjwsD",
        "outputId": "a9eab72b-15c3-40af-8ad6-a8e546595f0b"
      },
      "execution_count": 20,
      "outputs": [
        {
          "output_type": "stream",
          "name": "stdout",
          "text": [
            "Enter your age : 22\n",
            "You are an adult.\n"
          ]
        }
      ]
    },
    {
      "cell_type": "markdown",
      "source": [
        "Que 7. Describe the different types of loops in Python and their use cases with examples."
      ],
      "metadata": {
        "id": "rU_0oMmRmY2D"
      }
    },
    {
      "cell_type": "markdown",
      "source": [
        "1. In Python, loops are employed to repeat a sequence of actions or code until a specific condition is fulfilled.\n",
        "2. Python offers two primary types of loops: for loops and while loops.\n",
        "3. “for” loops are used for iterating over a sequence of elements, while “while” loops are used for executing code until a specified condition becomes False"
      ],
      "metadata": {
        "id": "D575MJmYmhTS"
      }
    },
    {
      "cell_type": "code",
      "source": [
        "# For loop :\n",
        "\n",
        "fruits = ['apple','banana','cherry','mango']\n",
        "\n",
        "for fruit in fruits:\n",
        "  print(fruit)"
      ],
      "metadata": {
        "colab": {
          "base_uri": "https://localhost:8080/"
        },
        "id": "lW2NIIYelutH",
        "outputId": "55185c1b-ba3b-4b2c-835b-3001e7200797"
      },
      "execution_count": 21,
      "outputs": [
        {
          "output_type": "stream",
          "name": "stdout",
          "text": [
            "apple\n",
            "banana\n",
            "cherry\n",
            "mango\n"
          ]
        }
      ]
    },
    {
      "cell_type": "code",
      "source": [
        "# While loop :\n",
        "\n",
        "count = 0\n",
        "while count < 5 :\n",
        "  print(count)\n",
        "  count+=1"
      ],
      "metadata": {
        "colab": {
          "base_uri": "https://localhost:8080/"
        },
        "id": "Z5JWkt1NorB6",
        "outputId": "a530088b-281e-45f0-c1ef-4dbb2285b0db"
      },
      "execution_count": 23,
      "outputs": [
        {
          "output_type": "stream",
          "name": "stdout",
          "text": [
            "0\n",
            "1\n",
            "2\n",
            "3\n",
            "4\n"
          ]
        }
      ]
    }
  ]
}